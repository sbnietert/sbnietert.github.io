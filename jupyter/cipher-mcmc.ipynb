{
 "cells": [
  {
   "cell_type": "code",
   "execution_count": 288,
   "metadata": {},
   "outputs": [],
   "source": [
    "from random import randrange, random\n",
    "alphabet = list('abcdefghijklmnopqrstuvwxyz ') # space included, all text assumed to be lowercase"
   ]
  },
  {
   "cell_type": "code",
   "execution_count": 289,
   "metadata": {},
   "outputs": [],
   "source": [
    "def get_relative_letter_frequencies(text):\n",
    "    counts = {}\n",
    "    for letter in alphabet:\n",
    "        counts[letter] = 0\n",
    "        \n",
    "    total_count = 0\n",
    "    for letter in text:\n",
    "        if letter in alphabet:\n",
    "            counts[letter] += 1\n",
    "            total_count += 1\n",
    "    \n",
    "    # convert counts to relative frequencies\n",
    "    for letter in alphabet:\n",
    "        counts[letter] /= total_count\n",
    "    return counts\n",
    "\n",
    "def get_letter_transition_matrix(text):\n",
    "    transition_counts = {}\n",
    "    for l1 in alphabet:\n",
    "        transition_counts[l1] = {}\n",
    "        for l2 in alphabet:\n",
    "            transition_counts[l1][l2] = 1\n",
    "    \n",
    "    row_counts = {}\n",
    "    for letter in alphabet:\n",
    "        row_counts[letter] = len(alphabet)\n",
    "\n",
    "    previous_letter = ''\n",
    "    for letter in text:\n",
    "        if (letter in alphabet) and (previous_letter in alphabet):\n",
    "            transition_counts[previous_letter][letter] += 1\n",
    "            row_counts[previous_letter] += 1\n",
    "        previous_letter = letter\n",
    "    \n",
    "    # convert counts to relative frequencies\n",
    "    for l1 in alphabet:\n",
    "        for l2 in alphabet:\n",
    "            transition_counts[l1][l2] /= row_counts[l1]\n",
    "    return transition_counts"
   ]
  },
  {
   "cell_type": "code",
   "execution_count": 290,
   "metadata": {},
   "outputs": [],
   "source": [
    "import requests\n",
    "url = 'http://www.gutenberg.org/files/2600/2600-0.txt' # War and Peace text\n",
    "text = requests.get(url).text.lower()\n",
    "letter_transitions = get_letter_transition_matrix(text)"
   ]
  },
  {
   "cell_type": "code",
   "execution_count": 291,
   "metadata": {},
   "outputs": [],
   "source": [
    "def get_random_cipher():\n",
    "    remaining_letters = alphabet[:] # create a copy of the alphabet\n",
    "    cipher = {}\n",
    "    for letter in alphabet:\n",
    "        cipher[letter] = remaining_letters.pop(randrange(len(remaining_letters)))\n",
    "    return cipher"
   ]
  },
  {
   "cell_type": "code",
   "execution_count": 292,
   "metadata": {},
   "outputs": [],
   "source": [
    "def get_cipher_guess(enciphered_message, letter_frequencies):\n",
    "    message_letter_frequencies = {}\n",
    "    for letter in alphabet:\n",
    "        message_letter_frequencies[letter] = 0\n",
    "    for letter in enciphered_message:\n",
    "        message_letter_frequencies[letter] += 1\n",
    "    \n",
    "    sorted_message_letters = sorted(message_letter_frequencies, key=message_letter_frequencies.get)\n",
    "    sorted_letters = sorted(letter_frequencies, key = letter_frequencies.get)\n",
    "    cipher = {}\n",
    "    for i in range(len(alphabet)):\n",
    "        cipher[sorted_message_letters[i]] = sorted_letters[i]\n",
    "    return cipher"
   ]
  },
  {
   "cell_type": "code",
   "execution_count": 293,
   "metadata": {},
   "outputs": [],
   "source": [
    "def get_cipher_plausibility(cipher, enciphered_message, letter_transitions):\n",
    "    plausibility = 1\n",
    "    previous_letter = ''\n",
    "    for letter in enciphered_message:\n",
    "        if (letter in alphabet) and (previous_letter in alphabet):\n",
    "            plausibility *= letter_transitions[cipher[previous_letter]][cipher[letter]]\n",
    "        previous_letter = letter\n",
    "    return plausibility"
   ]
  },
  {
   "cell_type": "code",
   "execution_count": 294,
   "metadata": {},
   "outputs": [],
   "source": [
    "def get_similar_cipher(cipher): # make random transposition\n",
    "    alphabet_copy = alphabet[:]\n",
    "    letter1 = alphabet_copy.pop(randrange(len(alphabet_copy)))\n",
    "    letter2 = alphabet_copy[randrange(len(alphabet_copy))]\n",
    "    \n",
    "    new_cipher = cipher.copy()\n",
    "    temp = cipher[letter1]\n",
    "    new_cipher[letter1] = cipher[letter2]\n",
    "    new_cipher[letter2] = temp\n",
    "    return new_cipher"
   ]
  },
  {
   "cell_type": "code",
   "execution_count": 295,
   "metadata": {},
   "outputs": [],
   "source": [
    "def metropolis_hastings_step(enciphered_message, letter_transitions, initial_cipher, num_iterations):\n",
    "    cipher = initial_cipher\n",
    "    for i in range(num_iterations):\n",
    "        plausibility = get_cipher_plausibility(cipher, enciphered_message, letter_transitions)\n",
    "        new_cipher = get_similar_cipher(cipher)\n",
    "        new_plausibility = get_cipher_plausibility(new_cipher, enciphered_message, letter_transitions)\n",
    "        if new_plausibility > plausibility or plausibility == 0:\n",
    "            cipher = new_cipher\n",
    "        else:\n",
    "            alpha = new_plausibility / plausibility\n",
    "            if random() < alpha:\n",
    "                cipher = new_cipher\n",
    "    return cipher"
   ]
  },
  {
   "cell_type": "code",
   "execution_count": 296,
   "metadata": {},
   "outputs": [],
   "source": [
    "def decipher_message(enciphered_message, cipher):\n",
    "    return ''.join([cipher[letter] for letter in enciphered_message])"
   ]
  },
  {
   "cell_type": "code",
   "execution_count": 304,
   "metadata": {},
   "outputs": [],
   "source": [
    "def metropolis_hastings(enciphered_message, letter_transitions, step_size, num_steps):\n",
    "    cipher = get_cipher_guess(enciphered_message, letter_frequencies)\n",
    "    print(decipher_message(enciphered_message, cipher))\n",
    "    for i in range(num_steps):\n",
    "        cipher = metropolis_hastings_step(enciphered_message, letter_transitions, cipher, step_size)\n",
    "        print(str(i*step_size) + '/' + str(num_steps*step_size) + ': ' + decipher_message(enciphered_message, cipher))"
   ]
  },
  {
   "cell_type": "code",
   "execution_count": 313,
   "metadata": {},
   "outputs": [
    {
     "name": "stdout",
     "output_type": "stream",
     "text": [
      "tieth snfwte snf ea ut ah iae ea ut esne ro est vdtoerai gstesth ero iauwth ri est fric ea odllth est owrimo nic nhhago al adehnmtado lahedit ah ea enbt nhfo nmnrioe n otn al ehaduwto nic up ayyaorim tic\n",
      "0/20000: eiter hadlet had to be or iot to be that ws the puestwoi ghether tws iobler wi the dwin to suffer the slwims ain arrogs of outrameous fortuie or to tave ards amawist a sea of troubles ain by ozzoswim ein\n",
      "1000/20000: eiter hadlet had to be or iot to be that ws the juestwoi ghether tws iobler wi the dwim to suffer the slwins aim arrogs of outraneous fortuie or to tape ards anawist a sea of troubles aim by occoswin eim\n",
      "2000/20000: eiter hadlet had to be or iot to be that ws the juestwoi khether tws iobler wi the dwin to suffer the slwims ain arroks of outrameous fortuie or to tace ards amawist a sea of troubles ain by opposwim ein\n",
      "3000/20000: eiter hadlet had to be or iot to be that ws the questwoi chether tws iobler wi the dwig to suffer the slwins aig arrocs of outraneous fortuie or to tave ards anawist a sea of troubles aig by opposwin eig\n",
      "4000/20000: eiter hadlet had to be or iot to be that ws the questwoi ghether tws iobler wi the dwin to suffer the slwims ain arrogs of outrameous fortuie or to tave ards amawist a sea of troubles ain by opposwim ein\n",
      "5000/20000: eiter hadlet had to pe or iot to pe that ws the questwoi khether tws iopler wi the dwin to suffer the slwims ain arroks of outrameous fortuie or to tave ards amawist a sea of trouples ain py occoswim ein\n",
      "6000/20000: eiter hadlet had to be or iot to be that ws the cuestwoi ghether tws iobler wi the dwin to supper the slwims ain arrogs op outrameous portuie or to take ards amawist a sea op troubles ain by offoswim ein\n",
      "7000/20000: eiter hadlet had to be or iot to be that ws the questwoi khether tws iobler wi the dwin to sugger the slwims ain arroks og outrameous gortuie or to taje ards amawist a sea og troubles ain by offoswim ein\n",
      "8000/20000: enter haplet hap to be or not to be that is the juestion whether tis nobler in the pind to summer the slings and arrows om outrageous mortune or to tave arps against a sea om troubles and by offosing end\n",
      "9000/20000: enter haklet hak to pe or not to pe that is the question whether tis nopler in the kind to summer the slings and arrows om outrageous mortune or to tace arks against a sea om trouples and py offosing end\n",
      "10000/20000: enter haklet hak to pe or not to pe that is the buestion whether tis nopler in the kind to summer the slings and arrows om outrageous mortune or to tace arks against a sea om trouples and py offosing end\n",
      "11000/20000: enter haplet hap to be or not to be that is the juestion whether tis nobler in the ping to summer the slinds ang arrows om outradeous mortune or to take arps adainst a sea om troubles ang by offosind eng\n",
      "12000/20000: enter haplet hap to be or not to be that is the juestion whether tis nobler in the pind to suffer the slings and arrows of outrageous fortune or to tave arps against a sea of troubles and by ommosing end\n",
      "13000/20000: enter haplet hap to be or not to be that is the juestion whether tis nobler in the pind to suffer the slings and arrows of outrageous fortune or to take arps against a sea of troubles and by ommosing end\n",
      "14000/20000: enter hamlet ham to be or not to be that is the juestion whether tis nobler in the mind to suffer the slings and arrows of outrageous fortune or to taze arms against a sea of troubles and by opposing end\n",
      "15000/20000: enter haplet hap to be or not to be that is the juestion whether tis nobler in the pind to suffer the slings and arrows of outrageous fortune or to tace arps against a sea of troubles and by ommosing end\n",
      "16000/20000: enter haplet hap to be or not to be that is the kuestion whether tis nobler in the pind to summer the slings and arrows om outrageous mortune or to tace arps against a sea om troubles and by offosing end\n",
      "17000/20000: enter haplet hap to be or not to be that is the cuestion whether tis nobler in the pind to suffer the slings and arrows of outrageous fortune or to tave arps against a sea of troubles and by ommosing end\n",
      "18000/20000: enter haplet hap to ce or not to ce that is the buestion whether tis nocler in the ping to suffer the slinds ang arrows of outradeous fortune or to tave arps adainst a sea of troucles ang cy ommosind eng\n",
      "19000/20000: enter hamlet ham to be or not to be that is the question whether tis nobler in the ming to suffer the slinds ang arrows of outradeous fortune or to tave arms adainst a sea of troubles ang by occosind eng\n"
     ]
    }
   ],
   "source": [
    "message = 'enter hamlet ham to be or not to be that is the question whether tis nobler in the mind to suffer the slings and arrows of outrageous fortune or to take arms against a sea of troubles and by opposing end'\n",
    "cipher = get_random_cipher()\n",
    "enciphered_message = decipher_message(message, cipher) # deciphering w/ random cipher functions as enciphering\n",
    "metropolis_hastings(enciphered_message, letter_transitions, step_size=1000, num_steps=20)"
   ]
  },
  {
   "cell_type": "code",
   "execution_count": null,
   "metadata": {},
   "outputs": [],
   "source": []
  }
 ],
 "metadata": {
  "kernelspec": {
   "display_name": "Python 3",
   "language": "python",
   "name": "python3"
  },
  "language_info": {
   "codemirror_mode": {
    "name": "ipython",
    "version": 3
   },
   "file_extension": ".py",
   "mimetype": "text/x-python",
   "name": "python",
   "nbconvert_exporter": "python",
   "pygments_lexer": "ipython3",
   "version": "3.6.5"
  }
 },
 "nbformat": 4,
 "nbformat_minor": 2
}
