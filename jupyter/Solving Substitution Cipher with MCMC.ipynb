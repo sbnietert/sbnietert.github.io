{
 "cells": [
  {
   "cell_type": "code",
   "execution_count": 1,
   "metadata": {},
   "outputs": [],
   "source": [
    "from random import randrange, random\n",
    "alphabet = list('abcdefghijklmnopqrstuvwxyz ') # space included, all text assumed to be lowercase"
   ]
  },
  {
   "cell_type": "code",
   "execution_count": 2,
   "metadata": {},
   "outputs": [],
   "source": [
    "def get_relative_letter_frequencies(text):\n",
    "    counts = {}\n",
    "    for letter in alphabet:\n",
    "        counts[letter] = 0\n",
    "        \n",
    "    total_count = 0\n",
    "    for letter in text:\n",
    "        if letter in alphabet:\n",
    "            counts[letter] += 1\n",
    "            total_count += 1\n",
    "    \n",
    "    # convert counts to relative frequencies\n",
    "    for letter in alphabet:\n",
    "        counts[letter] /= total_count\n",
    "    return counts\n",
    "\n",
    "def get_letter_transition_matrix(text):\n",
    "    transition_counts = {}\n",
    "    for l1 in alphabet:\n",
    "        transition_counts[l1] = {}\n",
    "        for l2 in alphabet:\n",
    "            transition_counts[l1][l2] = 1\n",
    "    \n",
    "    row_counts = {}\n",
    "    for letter in alphabet:\n",
    "        row_counts[letter] = len(alphabet)\n",
    "\n",
    "    previous_letter = ''\n",
    "    for letter in text:\n",
    "        if (letter in alphabet) and (previous_letter in alphabet):\n",
    "            transition_counts[previous_letter][letter] += 1\n",
    "            row_counts[previous_letter] += 1\n",
    "        previous_letter = letter\n",
    "    \n",
    "    # convert counts to relative frequencies\n",
    "    for l1 in alphabet:\n",
    "        for l2 in alphabet:\n",
    "            transition_counts[l1][l2] /= row_counts[l1]\n",
    "    return transition_counts"
   ]
  },
  {
   "cell_type": "code",
   "execution_count": 5,
   "metadata": {},
   "outputs": [],
   "source": [
    "import requests\n",
    "url = 'http://www.gutenberg.org/files/2600/2600-0.txt' # War and Peace text\n",
    "text = requests.get(url).text.lower()\n",
    "letter_frequencies = get_relative_letter_frequencies(text)\n",
    "letter_transitions = get_letter_transition_matrix(text)"
   ]
  },
  {
   "cell_type": "code",
   "execution_count": 6,
   "metadata": {},
   "outputs": [],
   "source": [
    "def get_random_cipher():\n",
    "    remaining_letters = alphabet[:] # create a copy of the alphabet\n",
    "    cipher = {}\n",
    "    for letter in alphabet:\n",
    "        cipher[letter] = remaining_letters.pop(randrange(len(remaining_letters)))\n",
    "    return cipher"
   ]
  },
  {
   "cell_type": "code",
   "execution_count": 7,
   "metadata": {},
   "outputs": [],
   "source": [
    "def get_cipher_guess(enciphered_message, letter_frequencies):\n",
    "    message_letter_frequencies = {}\n",
    "    for letter in alphabet:\n",
    "        message_letter_frequencies[letter] = 0\n",
    "    for letter in enciphered_message:\n",
    "        message_letter_frequencies[letter] += 1\n",
    "    \n",
    "    sorted_message_letters = sorted(message_letter_frequencies, key=message_letter_frequencies.get)\n",
    "    sorted_letters = sorted(letter_frequencies, key = letter_frequencies.get)\n",
    "    cipher = {}\n",
    "    for i in range(len(alphabet)):\n",
    "        cipher[sorted_message_letters[i]] = sorted_letters[i]\n",
    "    return cipher"
   ]
  },
  {
   "cell_type": "code",
   "execution_count": 8,
   "metadata": {},
   "outputs": [],
   "source": [
    "def get_cipher_plausibility(cipher, enciphered_message, letter_transitions):\n",
    "    plausibility = 1\n",
    "    previous_letter = ''\n",
    "    for letter in enciphered_message:\n",
    "        if (letter in alphabet) and (previous_letter in alphabet):\n",
    "            plausibility *= letter_transitions[cipher[previous_letter]][cipher[letter]]\n",
    "        previous_letter = letter\n",
    "    return plausibility"
   ]
  },
  {
   "cell_type": "code",
   "execution_count": 9,
   "metadata": {},
   "outputs": [],
   "source": [
    "def get_similar_cipher(cipher): # make random transposition\n",
    "    alphabet_copy = alphabet[:]\n",
    "    letter1 = alphabet_copy.pop(randrange(len(alphabet_copy)))\n",
    "    letter2 = alphabet_copy[randrange(len(alphabet_copy))]\n",
    "    \n",
    "    new_cipher = cipher.copy()\n",
    "    temp = cipher[letter1]\n",
    "    new_cipher[letter1] = cipher[letter2]\n",
    "    new_cipher[letter2] = temp\n",
    "    return new_cipher"
   ]
  },
  {
   "cell_type": "code",
   "execution_count": 10,
   "metadata": {},
   "outputs": [],
   "source": [
    "def metropolis_hastings_step(enciphered_message, letter_transitions, initial_cipher, num_iterations):\n",
    "    cipher = initial_cipher\n",
    "    for i in range(num_iterations):\n",
    "        plausibility = get_cipher_plausibility(cipher, enciphered_message, letter_transitions)\n",
    "        new_cipher = get_similar_cipher(cipher)\n",
    "        new_plausibility = get_cipher_plausibility(new_cipher, enciphered_message, letter_transitions)\n",
    "        if new_plausibility > plausibility or plausibility == 0:\n",
    "            cipher = new_cipher\n",
    "        else:\n",
    "            alpha = new_plausibility / plausibility\n",
    "            if random() < alpha:\n",
    "                cipher = new_cipher\n",
    "    return cipher"
   ]
  },
  {
   "cell_type": "code",
   "execution_count": 11,
   "metadata": {},
   "outputs": [],
   "source": [
    "def decipher_message(enciphered_message, cipher):\n",
    "    return ''.join([cipher[letter] for letter in enciphered_message])"
   ]
  },
  {
   "cell_type": "code",
   "execution_count": 14,
   "metadata": {},
   "outputs": [],
   "source": [
    "def metropolis_hastings(enciphered_message, letter_transitions, letter_frequencies, step_size, num_steps):\n",
    "    cipher = get_cipher_guess(enciphered_message, letter_frequencies)\n",
    "    print(decipher_message(enciphered_message, cipher))\n",
    "    for i in range(num_steps):\n",
    "        cipher = metropolis_hastings_step(enciphered_message, letter_transitions, cipher, step_size)\n",
    "        print(str((i+1)*step_size) + '/' + str(num_steps*step_size) + ': ' + decipher_message(enciphered_message, cipher))"
   ]
  },
  {
   "cell_type": "code",
   "execution_count": 15,
   "metadata": {},
   "outputs": [
    {
     "name": "stdout",
     "output_type": "stream",
     "text": [
      "tneth somwte som ea ut ah nae ea ut esoe ri est vdtieran gstesth eri nauwth rn est mrnc ea idllth est iwrnfi onc ohhagi al adehoftadi lahednt ah ea eobt ohmi ofornie o ito al ehaduwti onc up ayyairnf tnc\n",
      "1000/20000: ensed hoftes hof sa pe ad nas sa pe shos ur she xiersuan cheshed sur napted un she fung sa rimmed she rtunvr ong oddacr am aisdoveair madsine ad sa sowe odfr ovounrs o reo am sdaipter ong py allarunv eng\n",
      "2000/20000: enter holket hol ta ce ar nat ta ce thot is the puestian whether tis nacker in the ling ta summer the skinds ong orraws am autrodeaus martune ar ta tove orls odoinst o seo am trauckes ong cy affasind eng\n",
      "3000/20000: enter halket hal to ce or not to ce that is the buestion whether tis nocker in the ling to suffer the skinds ang arrows of outradeous fortune or to tave arls adainst a sea of trouckes ang cy ommosind eng\n",
      "4000/20000: enter halket hal to ce or not to ce that is the buestion whether tis nocker in the lind to summer the skings and arrows om outrageous mortune or to tave arls against a sea om trouckes and cy offosing end\n",
      "5000/20000: enter hapket hap to ce or not to ce that is the buestion whether tis nocker in the pind to suller the skings and arrows ol outrageous lortune or to tave arps against a sea ol trouckes and cy offosing end\n",
      "6000/20000: enter halket hal to ce or not to ce that is the buestion whether tis nocker in the ling to summer the skinds ang arrows om outradeous mortune or to tave arls adainst a sea om trouckes ang cy opposind eng\n",
      "7000/20000: enter halket hal to ce or not to ce that is the buestion whether tis nocker in the ling to suffer the skinds ang arrows of outradeous fortune or to tape arls adainst a sea of trouckes ang cy ommosind eng\n",
      "8000/20000: enter halket hal to ce or not to ce that is the buestion whether tis nocker in the ling to suffer the skinds ang arrows of outradeous fortune or to tave arls adainst a sea of trouckes ang cy ommosind eng\n",
      "9000/20000: enter halket hal to ce or not to ce that is the buestion whether tis nocker in the ling to suffer the skinds ang arrows of outradeous fortune or to tave arls adainst a sea of trouckes ang cy opposind eng\n",
      "10000/20000: enter hayket hay to ce or not to ce that is the buestion whether tis nocker in the yind to suffer the skings and arrows of outrageous fortune or to tape arys against a sea of trouckes and cl ommosing end\n",
      "11000/20000: enter halket hal to ce or not to ce that is the buestion whether tis nocker in the ling to suffer the skinds ang arrows of outradeous fortune or to tave arls adainst a sea of trouckes ang cy ommosind eng\n",
      "12000/20000: enter halket hal to ce or not to ce that is the buestion whether tis nocker in the lind to suffer the skings and arrows of outrageous fortune or to tame arls against a sea of trouckes and cy opposing end\n",
      "13000/20000: enter halket hal to ce or not to ce that is the buestion whether tis nocker in the ling to summer the skinds ang arrows om outradeous mortune or to tave arls adainst a sea om trouckes ang cy offosind eng\n",
      "14000/20000: enter halket hal to ce or not to ce that is the buestion whether tis nocker in the ling to suffer the skinds ang arrows of outradeous fortune or to tave arls adainst a sea of trouckes ang cy ommosind eng\n",
      "15000/20000: enter hamket ham to le or not to le that is the question whether tis nolker in the mind to suffer the skings and arrows of outrageous fortune or to tace arms against a sea of troulkes and ly opposing end\n",
      "16000/20000: enter hamyet ham to le or not to le that is the cuestion whether tis nolyer in the ming to suffer the syinds ang arrows of outradeous fortune or to tabe arms adainst a sea of troulyes ang lv opposind eng\n",
      "17000/20000: enter hamlet ham to pe or not to pe that is the buestion whether tis nopler in the mind to suffer the slings and arrows of outrageous fortune or to take arms against a sea of trouples and py occosing end\n",
      "18000/20000: enter halpet hal to me or not to me that is the buestion whether tis nomper in the lind to suffer the spings and arrows of outrageous fortune or to take arls against a sea of troumpes and my occosing end\n",
      "19000/20000: enter halpet hal to me or not to me that is the buestion whether tis nomper in the lind to suffer the spings and arrows of outrageous fortune or to tave arls against a sea of troumpes and my occosing end\n",
      "20000/20000: enter hamket ham to le or not to le that is the question whether tis nolker in the ming to suffer the skinds ang arrows of outradeous fortune or to tave arms adainst a sea of troulkes ang ly occosind eng\n"
     ]
    }
   ],
   "source": [
    "message = 'enter hamlet ham to be or not to be that is the question whether tis nobler in the mind to suffer the slings and arrows of outrageous fortune or to take arms against a sea of troubles and by opposing end'\n",
    "cipher = get_random_cipher()\n",
    "enciphered_message = decipher_message(message, cipher) # deciphering w/ random cipher functions as enciphering\n",
    "metropolis_hastings(enciphered_message, letter_transitions, letter_frequencies, step_size=1000, num_steps=20)"
   ]
  },
  {
   "cell_type": "code",
   "execution_count": null,
   "metadata": {},
   "outputs": [],
   "source": []
  }
 ],
 "metadata": {
  "kernelspec": {
   "display_name": "Python 3",
   "language": "python",
   "name": "python3"
  },
  "language_info": {
   "codemirror_mode": {
    "name": "ipython",
    "version": 3
   },
   "file_extension": ".py",
   "mimetype": "text/x-python",
   "name": "python",
   "nbconvert_exporter": "python",
   "pygments_lexer": "ipython3",
   "version": "3.6.5"
  }
 },
 "nbformat": 4,
 "nbformat_minor": 2
}
