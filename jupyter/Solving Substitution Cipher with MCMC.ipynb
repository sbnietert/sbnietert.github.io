{
 "cells": [
  {
   "cell_type": "code",
   "execution_count": 1,
   "metadata": {},
   "outputs": [],
   "source": [
    "from random import randrange, random\n",
    "alphabet = list('abcdefghijklmnopqrstuvwxyz ') # space included, all text assumed to be lowercase"
   ]
  },
  {
   "cell_type": "code",
   "execution_count": 2,
   "metadata": {},
   "outputs": [],
   "source": [
    "def get_relative_letter_frequencies(text):\n",
    "    counts = {}\n",
    "    for letter in alphabet:\n",
    "        counts[letter] = 0\n",
    "        \n",
    "    total_count = 0\n",
    "    for letter in text:\n",
    "        if letter in alphabet:\n",
    "            counts[letter] += 1\n",
    "            total_count += 1\n",
    "    \n",
    "    # convert counts to relative frequencies\n",
    "    for letter in alphabet:\n",
    "        counts[letter] /= total_count\n",
    "    return counts\n",
    "\n",
    "def get_letter_transition_matrix(text):\n",
    "    transition_counts = {}\n",
    "    for l1 in alphabet:\n",
    "        transition_counts[l1] = {}\n",
    "        for l2 in alphabet:\n",
    "            transition_counts[l1][l2] = 1\n",
    "    \n",
    "    row_counts = {}\n",
    "    for letter in alphabet:\n",
    "        row_counts[letter] = len(alphabet)\n",
    "\n",
    "    previous_letter = ''\n",
    "    for letter in text:\n",
    "        if (letter in alphabet) and (previous_letter in alphabet):\n",
    "            transition_counts[previous_letter][letter] += 1\n",
    "            row_counts[previous_letter] += 1\n",
    "        previous_letter = letter\n",
    "    \n",
    "    # convert counts to relative frequencies\n",
    "    for l1 in alphabet:\n",
    "        for l2 in alphabet:\n",
    "            transition_counts[l1][l2] /= row_counts[l1]\n",
    "    return transition_counts"
   ]
  },
  {
   "cell_type": "code",
   "execution_count": 5,
   "metadata": {},
   "outputs": [],
   "source": [
    "import requests\n",
    "url = 'http://www.gutenberg.org/files/2600/2600-0.txt' # War and Peace text\n",
    "text = requests.get(url).text.lower()\n",
    "letter_frequencies = get_relative_letter_frequencies(text)\n",
    "letter_transitions = get_letter_transition_matrix(text)"
   ]
  },
  {
   "cell_type": "code",
   "execution_count": 6,
   "metadata": {},
   "outputs": [],
   "source": [
    "def get_random_cipher():\n",
    "    remaining_letters = alphabet[:] # create a copy of the alphabet\n",
    "    cipher = {}\n",
    "    for letter in alphabet:\n",
    "        cipher[letter] = remaining_letters.pop(randrange(len(remaining_letters)))\n",
    "    return cipher"
   ]
  },
  {
   "cell_type": "code",
   "execution_count": 7,
   "metadata": {},
   "outputs": [],
   "source": [
    "def get_cipher_guess(enciphered_message, letter_frequencies):\n",
    "    message_letter_frequencies = {}\n",
    "    for letter in alphabet:\n",
    "        message_letter_frequencies[letter] = 0\n",
    "    for letter in enciphered_message:\n",
    "        message_letter_frequencies[letter] += 1\n",
    "    \n",
    "    sorted_message_letters = sorted(message_letter_frequencies, key=message_letter_frequencies.get)\n",
    "    sorted_letters = sorted(letter_frequencies, key = letter_frequencies.get)\n",
    "    cipher = {}\n",
    "    for i in range(len(alphabet)):\n",
    "        cipher[sorted_message_letters[i]] = sorted_letters[i]\n",
    "    return cipher"
   ]
  },
  {
   "cell_type": "code",
   "execution_count": 8,
   "metadata": {},
   "outputs": [],
   "source": [
    "def get_cipher_plausibility(cipher, enciphered_message, letter_transitions):\n",
    "    plausibility = 1\n",
    "    previous_letter = ''\n",
    "    for letter in enciphered_message:\n",
    "        if (letter in alphabet) and (previous_letter in alphabet):\n",
    "            plausibility *= letter_transitions[cipher[previous_letter]][cipher[letter]]\n",
    "        previous_letter = letter\n",
    "    return plausibility"
   ]
  },
  {
   "cell_type": "code",
   "execution_count": 9,
   "metadata": {},
   "outputs": [],
   "source": [
    "def get_similar_cipher(cipher): # make random transposition\n",
    "    alphabet_copy = alphabet[:]\n",
    "    letter1 = alphabet_copy.pop(randrange(len(alphabet_copy)))\n",
    "    letter2 = alphabet_copy[randrange(len(alphabet_copy))]\n",
    "    \n",
    "    new_cipher = cipher.copy()\n",
    "    temp = cipher[letter1]\n",
    "    new_cipher[letter1] = cipher[letter2]\n",
    "    new_cipher[letter2] = temp\n",
    "    return new_cipher"
   ]
  },
  {
   "cell_type": "code",
   "execution_count": 10,
   "metadata": {},
   "outputs": [],
   "source": [
    "def metropolis_hastings_step(enciphered_message, letter_transitions, initial_cipher, num_iterations):\n",
    "    cipher = initial_cipher\n",
    "    for i in range(num_iterations):\n",
    "        plausibility = get_cipher_plausibility(cipher, enciphered_message, letter_transitions)\n",
    "        new_cipher = get_similar_cipher(cipher)\n",
    "        new_plausibility = get_cipher_plausibility(new_cipher, enciphered_message, letter_transitions)\n",
    "        if new_plausibility > plausibility or plausibility == 0:\n",
    "            cipher = new_cipher\n",
    "        else:\n",
    "            alpha = new_plausibility / plausibility\n",
    "            if random() < alpha:\n",
    "                cipher = new_cipher\n",
    "    return cipher"
   ]
  },
  {
   "cell_type": "code",
   "execution_count": 11,
   "metadata": {},
   "outputs": [],
   "source": [
    "def decipher_message(enciphered_message, cipher):\n",
    "    return ''.join([cipher[letter] for letter in enciphered_message])"
   ]
  },
  {
   "cell_type": "code",
   "execution_count": 12,
   "metadata": {},
   "outputs": [],
   "source": [
    "def metropolis_hastings(enciphered_message, letter_transitions, letter_frequencies, step_size, num_steps):\n",
    "    cipher = get_cipher_guess(enciphered_message, letter_frequencies)\n",
    "    print(decipher_message(enciphered_message, cipher))\n",
    "    for i in range(num_steps):\n",
    "        cipher = metropolis_hastings_step(enciphered_message, letter_transitions, cipher, step_size)\n",
    "        print(str(i*step_size) + '/' + str(num_steps*step_size) + ': ' + decipher_message(enciphered_message, cipher))"
   ]
  },
  {
   "cell_type": "code",
   "execution_count": 13,
   "metadata": {},
   "outputs": [
    {
     "name": "stdout",
     "output_type": "stream",
     "text": [
      "tneth rofcte rof ea lt ah nae ea lt eroe si ert pdtiesan grterth esi nalcth sn ert fsnm ea iduuth ert icsnwi onm ohhagi au adehowtadi uahednt ah ea eobt ohfi owosnie o ito au ehadlcti onm lv ayyaisnw tnm\n",
      "0/20000: enter hakyet hak to le or not to le that is the buestion ghether tis nolyer in the kind to summer the syincs and arrogs om outraceous mortune or to tawe arks acainst a sea om troulyes and lf opposinc end\n",
      "1000/20000: enter hamket ham to le or not to le that is the question whether tis nolker in the mind to suffer the skings and arrows of outrageous fortune or to tace arms against a sea of troulkes and ly opposing end\n",
      "2000/20000: enter hamket ham to ce or not to ce that is the buestion whether tis nocker in the ming to suller the skinds ang arrows ol outradeous lortune or to tave arms adainst a sea ol trouckes ang cy offosind eng\n",
      "3000/20000: enter halket hal to ce or not to ce that is the buestion whether tis nocker in the ling to summer the skinds ang arrows om outradeous mortune or to tave arls adainst a sea om trouckes ang cy opposind eng\n",
      "4000/20000: enter hayket hay to ce or not to ce that is the question whether tis nocker in the yind to suffer the skings and arrows of outrageous fortune or to tave arys against a sea of trouckes and cl ommosing end\n",
      "5000/20000: enter haklet hak to be or not to be that is the question whether tis nobler in the kind to summer the slings and arrows om outrageous mortune or to tave arks against a sea om troubles and by offosing end\n",
      "6000/20000: enter haplet hap to be or not to be that is the question whether tis nobler in the ping to summer the slinds ang arrows om outradeous mortune or to tave arps adainst a sea om troubles ang by offosind eng\n",
      "7000/20000: enter haplet hap to be or not to be that is the question whether tis nobler in the ping to suffer the slinds ang arrows of outradeous fortune or to take arps adainst a sea of troubles ang by ommosind eng\n",
      "8000/20000: enter haklet hak to be or not to be that is the puestion whether tis nobler in the kind to summer the slings and arrows om outrageous mortune or to tace arks against a sea om troubles and by offosing end\n",
      "9000/20000: enter haplet hap to be or not to be that is the question whether tis nobler in the ping to summer the slinds ang arrows om outradeous mortune or to tave arps adainst a sea om troubles ang by offosind eng\n",
      "10000/20000: enter havlet hav to be or not to be that is the question whether tis nobler in the ving to suffer the slinds ang arrows of outradeous fortune or to take arvs adainst a sea of troubles ang by opposind eng\n",
      "11000/20000: enter haplet hap to be or not to be that is the cuestion whether tis nobler in the pind to suffer the slings and arrows of outrageous fortune or to tave arps against a sea of troubles and by ommosing end\n",
      "12000/20000: enter haklet hak to be or not to be that is the question whether tis nobler in the king to suffer the slinds ang arrows of outradeous fortune or to tame arks adainst a sea of troubles ang by opposind eng\n",
      "13000/20000: enter haklet hak to be or not to be that is the question whether tis nobler in the kind to summer the slings and arrows om outrageous mortune or to tape arks against a sea om troubles and by occosing end\n",
      "14000/20000: enter haklet hak to be or not to be that is the juestion whether tis nobler in the king to suffer the slinds ang arrows of outradeous fortune or to tace arks adainst a sea of troubles ang by ommosind eng\n",
      "15000/20000: enter haklet hak to be or not to be that is the question whether tis nobler in the king to suffer the slinds ang arrows of outradeous fortune or to tave arks adainst a sea of troubles ang by ommosind eng\n",
      "16000/20000: enter hamlet ham to be or not to be that is the cuestion whether tis nobler in the ming to suffer the slinds ang arrows of outradeous fortune or to tave arms adainst a sea of troubles ang by opposind eng\n",
      "17000/20000: enter haplet hap to be or not to be that is the cuestion whether tis nobler in the pind to suffer the slings and arrows of outrageous fortune or to tave arps against a sea of troubles and by ommosing end\n",
      "18000/20000: enter haplet hap to be or not to be that is the question whether tis nobler in the ping to summer the slinds ang arrows om outradeous mortune or to tace arps adainst a sea om troubles ang by offosind eng\n",
      "19000/20000: enter haplet hap to be or not to be that is the question whether tis nobler in the pind to suffer the slings and arrows of outrageous fortune or to tame arps against a sea of troubles and by occosing end\n"
     ]
    }
   ],
   "source": [
    "message = 'enter hamlet ham to be or not to be that is the question whether tis nobler in the mind to suffer the slings and arrows of outrageous fortune or to take arms against a sea of troubles and by opposing end'\n",
    "cipher = get_random_cipher()\n",
    "enciphered_message = decipher_message(message, cipher) # deciphering w/ random cipher functions as enciphering\n",
    "metropolis_hastings(enciphered_message, letter_transitions, letter_frequencies, step_size=1000, num_steps=20)"
   ]
  },
  {
   "cell_type": "code",
   "execution_count": null,
   "metadata": {},
   "outputs": [],
   "source": []
  }
 ],
 "metadata": {
  "kernelspec": {
   "display_name": "Python 3",
   "language": "python",
   "name": "python3"
  },
  "language_info": {
   "codemirror_mode": {
    "name": "ipython",
    "version": 3
   },
   "file_extension": ".py",
   "mimetype": "text/x-python",
   "name": "python",
   "nbconvert_exporter": "python",
   "pygments_lexer": "ipython3",
   "version": "3.6.5"
  }
 },
 "nbformat": 4,
 "nbformat_minor": 2
}
